{
 "cells": [
  {
   "cell_type": "code",
   "execution_count": null,
   "metadata": {
    "collapsed": true
   },
   "outputs": [],
   "source": [
    "import pandas as pd\n",
    "import requests\n",
    "from string import Template\n",
    "import time\n",
    "import hmac\n",
    "import hashlib"
   ]
  },
  {
   "cell_type": "code",
   "execution_count": null,
   "metadata": {
    "collapsed": true
   },
   "outputs": [],
   "source": [
    "VERSION = '1.1'\n",
    "BASE_REQUEST = Template('https://bittrex.com/api/v$version/$scope/')\n",
    "\n",
    "PUBLIC_BASE_URL = BASE_REQUEST.substitute(version=VERSION, scope='public')\n",
    "MARKET_BASE_URL = BASE_REQUEST.substitute(version=VERSION, scope='market')\n",
    "ACCOUNT_BASE_URL = BASE_REQUEST.substitute(version=VERSION, scope='account')\n",
    "\n",
    "# Read public and secret keys from keys.txt\n",
    "API_KEY = open('keys.txt', 'r').read().split('\\n')[0].split(':')[1].strip()\n",
    "SECRET_KEY = open('keys.txt', 'r').read().split('\\n')[1].split(':')[1].strip()\n",
    "\n",
    "PUBLIC_METHODS = ['getmarkets', 'getcurrencies', 'getticker', 'getmarketsummaries', 'getmarketsummary', 'getorderbook',\n",
    "                  'getmarkethistory']\n",
    "\n",
    "MARKET_METHODS = ['buylimit', 'selllimit', 'cancel', 'getopenorders']\n",
    "\n",
    "ACCOUNT_METHODS = ['getbalances', 'getbalance', 'getdepositaddress', 'withdraw', 'getorder', 'getorderhistory', \n",
    "                   'getwithdrawalhistory', 'getdeposithistory']"
   ]
  },
  {
   "cell_type": "code",
   "execution_count": 118,
   "metadata": {
    "collapsed": false
   },
   "outputs": [],
   "source": [
    "# Method for unpacking arguments and forming them into a formatted string that can be used in a Bittrex API request \n",
    "def unpack_args(args):\n",
    "    formatted_args = ''\n",
    "    \n",
    "    if args != None:\n",
    "        for k in args.keys():\n",
    "            formatted_args += (k + '=' + args[k]+ '&')\n",
    "            \n",
    "    return formatted_args\n",
    "\n",
    "\n",
    "# Wrapper method for accessing the Bittrex API\n",
    "def bittrex_request(scope, method, args=None):\n",
    "\n",
    "    if scope == PUBLIC_BASE_URL:\n",
    "        request_url_template = Template('$scope$method?$args')\n",
    "        \n",
    "        if args is not None:\n",
    "            request_url = request_url_template.substitute(scope=scope, method=method, args=unpack_args(args))\n",
    "        else:\n",
    "            request_url = request_url_template.substitute(scope=scope, method=method, args='')\n",
    "\n",
    "        return pd.DataFrame(requests.get(request_url).json()['result'])\n",
    "\n",
    "    elif scope == MARKET_BASE_URL:\n",
    "        request_url_template = Template('$scope$method?$args$auth')\n",
    "        \n",
    "        nonce = time.time()\n",
    "        auth = {'apikey': str(API_KEY), 'nonce': str(nonce)}\n",
    "        \n",
    "        if args is not None:\n",
    "            request_url = request_url_template.substitute(scope=scope, method=method, args=unpack_args(args), auth=unpack_args(auth))\n",
    "        else:\n",
    "            request_url = request_url_template.substitute(scope=scope, method=method, args='', auth=unpack_args(auth))\n",
    "        \n",
    "        # Sign the request\n",
    "        sign = hmac.new(SECRET_KEY, request_url, hashlib.sha512).hexdigest()\n",
    "\n",
    "        # Add the sign to the request header\n",
    "        request_headers = {'apisign': sign}\n",
    "        \n",
    "        # Make the request\n",
    "        return pd.DataFrame(requests.get(request_url, headers = request_headers).json()['result'])\n",
    "    \n",
    "    elif scope == ACCOUNT_BASE_URL:\n",
    "        request_url_template = Template('$scope$method?$args$auth')\n",
    "        \n",
    "        nonce = time.time()\n",
    "        auth = {'apikey': str(API_KEY), 'nonce': str(nonce)}\n",
    "        \n",
    "        if args is not None:\n",
    "            request_url = request_url_template.substitute(scope=scope, method=method, args=unpack_args(args), auth=unpack_args(auth))\n",
    "        else:\n",
    "            request_url = request_url_template.substitute(scope=scope, method=method, args='', auth=unpack_args(auth))\n",
    "        \n",
    "        # Sign the request\n",
    "        sign = hmac.new(SECRET_KEY, request_url, hashlib.sha512).hexdigest()\n",
    "\n",
    "        # Add the sign to the request header\n",
    "        request_headers = {'apisign': sign}\n",
    "\n",
    "        # Make the request\n",
    "        return pd.DataFrame(requests.get(request_url, headers = request_headers).json()['result'])"
   ]
  },
  {
   "cell_type": "markdown",
   "metadata": {},
   "source": [
    "## Public API request example"
   ]
  },
  {
   "cell_type": "markdown",
   "metadata": {
    "collapsed": false
   },
   "source": [
    "args = {'type': 'sell', 'market': 'BTC-XRP'}\n",
    "bittrex_request(PUBLIC_BASE_URL, 'getorderbook', args)"
   ]
  },
  {
   "cell_type": "markdown",
   "metadata": {},
   "source": [
    "## Account API request example"
   ]
  },
  {
   "cell_type": "markdown",
   "metadata": {
    "collapsed": false
   },
   "source": [
    "bittrex_request(ACCOUNT_BASE_URL, 'getorderhistory')"
   ]
  },
  {
   "cell_type": "markdown",
   "metadata": {},
   "source": [
    "## Market API request example"
   ]
  },
  {
   "cell_type": "markdown",
   "metadata": {
    "collapsed": false
   },
   "source": [
    "bittrex_request(MARKET_BASE_URL, 'getopenorders')"
   ]
  },
  {
   "cell_type": "code",
   "execution_count": null,
   "metadata": {
    "collapsed": true
   },
   "outputs": [],
   "source": []
  }
 ],
 "metadata": {
  "kernelspec": {
   "display_name": "Python 2",
   "language": "python",
   "name": "python2"
  },
  "language_info": {
   "codemirror_mode": {
    "name": "ipython",
    "version": 2
   },
   "file_extension": ".py",
   "mimetype": "text/x-python",
   "name": "python",
   "nbconvert_exporter": "python",
   "pygments_lexer": "ipython2",
   "version": "2.7.13"
  }
 },
 "nbformat": 4,
 "nbformat_minor": 2
}
