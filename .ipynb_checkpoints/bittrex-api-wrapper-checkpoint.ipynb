{
 "cells": [
  {
   "cell_type": "code",
   "execution_count": 61,
   "metadata": {
    "collapsed": true
   },
   "outputs": [],
   "source": [
    "import pandas as pd\n",
    "import requests\n",
    "from string import Template\n",
    "import time\n",
    "import hmac\n",
    "import hashlib"
   ]
  },
  {
   "cell_type": "code",
   "execution_count": 46,
   "metadata": {
    "collapsed": true
   },
   "outputs": [],
   "source": [
    "VERSION = '1.1'\n",
    "BASE_REQUEST = Template('https://bittrex.com/api/v$version/$scope/')\n",
    "\n",
    "PUBLIC_BASE_URL = BASE_REQUEST.substitute(version=VERSION, scope='public')\n",
    "MARKET_BASE_URL = BASE_REQUEST.substitute(version=VERSION, scope='market')\n",
    "ACCOUNT_BASE_URL = BASE_REQUEST.substitute(version=VERSION, scope='account')\n",
    "\n",
    "# Read public and secret keys from keys.txt\n",
    "API_KEY = open('keys.txt', 'r').read().split('\\n')[0].split(':')[1].strip()\n",
    "SECRET_KEY = open('keys.txt', 'r').read().split('\\n')[1].split(':')[1].strip()\n",
    "\n",
    "PUBLIC_METHODS = ['getmarkets', 'getcurrencies', 'getticker', 'getmarketsummaries', 'getmarketsummary', 'getorderbook',\n",
    "                  'getmarkethistory']\n",
    "\n",
    "MARKET_METHODS = ['buylimit', 'selllimit', 'cancel', 'getopenorders']\n",
    "\n",
    "ACCOUNT_METHODS = ['getbalances', 'getbalance', 'getdepositaddress', 'withdraw', 'getorder', 'getorderhistory', \n",
    "                   'getwithdrawalhistory', 'getdeposithistory']"
   ]
  },
  {
   "cell_type": "code",
   "execution_count": 49,
   "metadata": {
    "collapsed": false
   },
   "outputs": [
    {
     "data": {
      "text/plain": [
       "'50de0359c657431e96b2b849792fa52b'"
      ]
     },
     "execution_count": 49,
     "metadata": {},
     "output_type": "execute_result"
    }
   ],
   "source": [
    "API_KEY"
   ]
  },
  {
   "cell_type": "code",
   "execution_count": 95,
   "metadata": {
    "collapsed": true
   },
   "outputs": [],
   "source": [
    "# Method for unpacking arguments and forming them into a formatted string that can be used in a Bittrex API request \n",
    "def unpack_args(args):\n",
    "    formatted_args = ''\n",
    "    \n",
    "    if args != None:\n",
    "        for k in args.keys():\n",
    "            formatted_args += (k + '=' + args[k]+ '&')\n",
    "            \n",
    "    return formatted_args\n",
    "\n",
    "\n",
    "# Wrapper method for accessing the Bittrex API\n",
    "def bittrex_request(scope, method, args=None):\n",
    "\n",
    "    if scope == PUBLIC_BASE_URL:\n",
    "        request_url_template = Template('$scope$method?$args')\n",
    "        \n",
    "        if args is not None:\n",
    "            request_url = request_url_template.substitute(scope=scope, method=method, args=unpack_args(args))\n",
    "        else:\n",
    "            request_url = request_url_template.substitute(scope=scope, method=method, args='')\n",
    "\n",
    "        return pd.DataFrame(requests.get(request_url).json()['result'])\n",
    "\n",
    "    elif scope == MARKET_BASE_URL:\n",
    "        request_url_template = Template('$scope$method?$args$auth')\n",
    "        \n",
    "        nonce = time.time()\n",
    "        auth = {'apikey': str(API_KEY), 'nonce': str(nonce)}\n",
    "        \n",
    "        request_url = request_url_template.substitute(scope=scope, method=method, args='', auth=unpack_args(auth))\n",
    "\n",
    "        # Sign the request\n",
    "        sign = hmac.new(SECRET_KEY, request_url, hashlib.sha512).hexdigest()\n",
    "\n",
    "        # Add the sign to the request header\n",
    "        request_headers = {'apisign': sign}\n",
    "        \n",
    "        # Make the request\n",
    "        return pd.DataFrame(requests.get(request_url, headers = request_headers).json()['result'])\n",
    "    \n",
    "    elif scope == ACCOUNT_BASE_URL:\n",
    "        request_url_template = Template('$scope$method?$args$auth')\n",
    "        \n",
    "        nonce = time.time()\n",
    "        auth = {'apikey': str(API_KEY), 'nonce': str(nonce)}\n",
    "        \n",
    "        request_url = request_url_template.substitute(scope=scope, method=method, args='', auth=unpack_args(auth))\n",
    "\n",
    "        # Sign the request\n",
    "        sign = hmac.new(SECRET_KEY, request_url, hashlib.sha512).hexdigest()\n",
    "\n",
    "        # Add the sign to the request header\n",
    "        request_headers = {'apisign': sign}\n",
    "        \n",
    "        # Make the request\n",
    "        return pd.DataFrame(requests.get(request_url, headers = request_headers).json()['result'])\n",
    "    \n",
    "    "
   ]
  },
  {
   "cell_type": "code",
   "execution_count": 99,
   "metadata": {
    "collapsed": false
   },
   "outputs": [
    {
     "data": {
      "text/html": [
       "<div>\n",
       "<table border=\"1\" class=\"dataframe\">\n",
       "  <thead>\n",
       "    <tr style=\"text-align: right;\">\n",
       "      <th></th>\n",
       "      <th>Ask</th>\n",
       "      <th>BaseVolume</th>\n",
       "      <th>Bid</th>\n",
       "      <th>Created</th>\n",
       "      <th>High</th>\n",
       "      <th>Last</th>\n",
       "      <th>Low</th>\n",
       "      <th>MarketName</th>\n",
       "      <th>OpenBuyOrders</th>\n",
       "      <th>OpenSellOrders</th>\n",
       "      <th>PrevDay</th>\n",
       "      <th>TimeStamp</th>\n",
       "      <th>Volume</th>\n",
       "    </tr>\n",
       "  </thead>\n",
       "  <tbody>\n",
       "    <tr>\n",
       "      <th>0</th>\n",
       "      <td>4.300000e-07</td>\n",
       "      <td>90.986795</td>\n",
       "      <td>4.200000e-07</td>\n",
       "      <td>2014-02-13T00:00:00</td>\n",
       "      <td>4.400000e-07</td>\n",
       "      <td>4.300000e-07</td>\n",
       "      <td>4.200000e-07</td>\n",
       "      <td>BTC-DOGE</td>\n",
       "      <td>1250</td>\n",
       "      <td>9276</td>\n",
       "      <td>4.300000e-07</td>\n",
       "      <td>2017-09-08T13:06:41.94</td>\n",
       "      <td>2.125689e+08</td>\n",
       "    </tr>\n",
       "  </tbody>\n",
       "</table>\n",
       "</div>"
      ],
      "text/plain": [
       "            Ask  BaseVolume           Bid              Created          High  \\\n",
       "0  4.300000e-07   90.986795  4.200000e-07  2014-02-13T00:00:00  4.400000e-07   \n",
       "\n",
       "           Last           Low MarketName  OpenBuyOrders  OpenSellOrders  \\\n",
       "0  4.300000e-07  4.200000e-07   BTC-DOGE           1250            9276   \n",
       "\n",
       "        PrevDay               TimeStamp        Volume  \n",
       "0  4.300000e-07  2017-09-08T13:06:41.94  2.125689e+08  "
      ]
     },
     "execution_count": 99,
     "metadata": {},
     "output_type": "execute_result"
    }
   ],
   "source": [
    "# args = {'type': 'sell', 'market': 'BTC-XRP'}\n",
    "args = {'market': 'BTC-DOGE'}\n",
    "bittrex_request(PUBLIC_BASE_URL, 'getmarketsummary', args)"
   ]
  },
  {
   "cell_type": "markdown",
   "metadata": {},
   "source": [
    "# Account API Request example"
   ]
  },
  {
   "cell_type": "code",
   "execution_count": 94,
   "metadata": {
    "collapsed": false
   },
   "outputs": [
    {
     "data": {
      "text/html": [
       "<div>\n",
       "<table border=\"1\" class=\"dataframe\">\n",
       "  <thead>\n",
       "    <tr style=\"text-align: right;\">\n",
       "      <th></th>\n",
       "      <th>Available</th>\n",
       "      <th>Balance</th>\n",
       "      <th>CryptoAddress</th>\n",
       "      <th>Currency</th>\n",
       "      <th>Pending</th>\n",
       "    </tr>\n",
       "  </thead>\n",
       "  <tbody>\n",
       "    <tr>\n",
       "      <th>0</th>\n",
       "      <td>0.495</td>\n",
       "      <td>0.495</td>\n",
       "      <td>0xa51ca3a39b4b887925eef8ddc85e0c205814fcbd</td>\n",
       "      <td>ETH</td>\n",
       "      <td>0.0</td>\n",
       "    </tr>\n",
       "  </tbody>\n",
       "</table>\n",
       "</div>"
      ],
      "text/plain": [
       "   Available  Balance                               CryptoAddress Currency  \\\n",
       "0      0.495    0.495  0xa51ca3a39b4b887925eef8ddc85e0c205814fcbd      ETH   \n",
       "\n",
       "   Pending  \n",
       "0      0.0  "
      ]
     },
     "execution_count": 94,
     "metadata": {},
     "output_type": "execute_result"
    }
   ],
   "source": [
    "nonce = time.time()\n",
    "auth_args = {'apikey': str(API_KEY), 'nonce': str(nonce)}\n",
    "bittrex_request(ACCOUNT_BASE_URL, 'getbalances', args=None)"
   ]
  },
  {
   "cell_type": "markdown",
   "metadata": {
    "collapsed": true
   },
   "source": [
    "# Auth up!"
   ]
  },
  {
   "cell_type": "code",
   "execution_count": 56,
   "metadata": {
    "collapsed": false
   },
   "outputs": [
    {
     "data": {
      "text/plain": [
       "'nonce=1504743683.95&apikey=50de0359c657431e96b2b849792fa52b&'"
      ]
     },
     "execution_count": 56,
     "metadata": {},
     "output_type": "execute_result"
    }
   ],
   "source": []
  },
  {
   "cell_type": "code",
   "execution_count": 62,
   "metadata": {
    "collapsed": false
   },
   "outputs": [
    {
     "data": {
      "text/plain": [
       "'{\"success\":true,\"message\":\"\",\"result\":[{\"Currency\":\"ETH\",\"Balance\":0.49500000,\"Available\":0.49500000,\"Pending\":0.00000000,\"CryptoAddress\":\"0xa51ca3a39b4b887925eef8ddc85e0c205814fcbd\"}]}'"
      ]
     },
     "execution_count": 62,
     "metadata": {},
     "output_type": "execute_result"
    }
   ],
   "source": [
    "nonce = time.time()\n",
    "\n",
    "request_url = 'https://bittrex.com/api/v1.1/account/getbalances?apikey=' + API_KEY + '&nonce=' + str(nonce);\n",
    "\n",
    "auth_args = {'apikey': str(API_KEY), 'nonce': str(nonce)}\n",
    "unpack_args(auth_args)\n",
    "\n",
    "# Sign the request\n",
    "sign = hmac.new(SECRET_KEY, request_url, hashlib.sha512).hexdigest()\n",
    "\n",
    "# Add the sign to the request header\n",
    "request_headers = {'apisign': sign}\n",
    "\n",
    "# Make the request\n",
    "authd_response = requests.get(request_url, headers = request_headers)\n",
    "\n",
    "authd_response.content"
   ]
  },
  {
   "cell_type": "code",
   "execution_count": null,
   "metadata": {
    "collapsed": true
   },
   "outputs": [],
   "source": []
  }
 ],
 "metadata": {
  "kernelspec": {
   "display_name": "Python 2",
   "language": "python",
   "name": "python2"
  },
  "language_info": {
   "codemirror_mode": {
    "name": "ipython",
    "version": 2
   },
   "file_extension": ".py",
   "mimetype": "text/x-python",
   "name": "python",
   "nbconvert_exporter": "python",
   "pygments_lexer": "ipython2",
   "version": "2.7.13"
  }
 },
 "nbformat": 4,
 "nbformat_minor": 2
}
